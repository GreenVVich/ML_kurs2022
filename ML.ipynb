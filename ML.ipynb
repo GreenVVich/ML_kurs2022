{
  "nbformat": 4,
  "nbformat_minor": 0,
  "metadata": {
    "colab": {
      "provenance": []
    },
    "kernelspec": {
      "name": "python3",
      "display_name": "Python 3"
    },
    "language_info": {
      "name": "python"
    }
  },
  "cells": [
    {
      "cell_type": "code",
      "execution_count": 5,
      "metadata": {
        "id": "WSdHO2IHmDdi"
      },
      "outputs": [],
      "source": [
        "import pandas as pd\n",
        "\n",
        "\n",
        "df = pd.read_parquet('dataset.parquet')"
      ]
    },
    {
      "cell_type": "code",
      "source": [
        "df"
      ],
      "metadata": {
        "colab": {
          "base_uri": "https://localhost:8080/",
          "height": 661
        },
        "id": "oOpWU8e_AeBA",
        "outputId": "169f3e1a-7e50-4aa8-efec-2a7235876f37"
      },
      "execution_count": 6,
      "outputs": [
        {
          "output_type": "execute_result",
          "data": {
            "text/plain": [
              "              id                         ticket_id           ticket_type_nm  \\\n",
              "0              1  40BD89EC85646EFB69E283F39C298E60          Пропуск FacePay   \n",
              "1              2  126727A96489CC976A8C08E5CEB00542     СК учащегося 30 дней   \n",
              "2              3  D28CE6A9E0E5B6D213470A97CFF32485  БСК дружинника г.Москвы   \n",
              "3              4  015DA44B523C062B5BFEFF3FB0E64B9E                  30 дней   \n",
              "4              5  95B19C6F3A504727AC3EA56EB7E3E80F                  КОШЕЛЕК   \n",
              "...          ...                               ...                      ...   \n",
              "1091016  1091017  6A738232F8E43DFCD4027FDC0EA6CC03          Пропуск FacePay   \n",
              "1091017  1091018  141174B366F14A8703903813A49374DB          Пропуск FacePay   \n",
              "1091018  1091019  E38493B30A7C55170806F187AF5EEA15          Пропуск FacePay   \n",
              "1091019  1091020  3DF2B6366631ECA06274DD2CB5B0DF24          Пропуск FacePay   \n",
              "1091020  1091021  80DA097A0BBFD91F5B15697AD53F8D3B          Пропуск FacePay   \n",
              "\n",
              "         entrance_id             entrance_nm  station_id     station_nm  \\\n",
              "0               2402           Лефортово БКЛ       11007      Лефортово   \n",
              "1                110    Войковская ( Южный )        2006     Войковская   \n",
              "2                110    Войковская ( Южный )        2006     Войковская   \n",
              "3                110    Войковская ( Южный )        2006     Войковская   \n",
              "4                110    Войковская ( Южный )        2006     Войковская   \n",
              "...              ...                     ...         ...            ...   \n",
              "1091016         2283  Нижегородская (второй)       15005  Нижегородская   \n",
              "1091017          278    Калужская (Северный)        6007      Калужская   \n",
              "1091018          118   Каширская (Северный )        2010      Каширская   \n",
              "1091019         2452   Воронцовская (Первый)       11014   Воронцовская   \n",
              "1091020          320              Пушкинская        7015     Пушкинская   \n",
              "\n",
              "         line_id                     line_nm            pass_dttm  \\\n",
              "0             11           Большая кольцевая  2022-09-12 05:00:13   \n",
              "1              2              Замоскворецкая  2022-09-12 05:00:54   \n",
              "2              2              Замоскворецкая  2022-09-12 05:00:55   \n",
              "3              2              Замоскворецкая  2022-09-12 05:01:13   \n",
              "4              2              Замоскворецкая  2022-09-12 05:02:55   \n",
              "...          ...                         ...                  ...   \n",
              "1091016       15                Некрасовская  2022-09-19 02:54:50   \n",
              "1091017        6            Калужско-Рижская  2022-09-19 03:06:02   \n",
              "1091018        2              Замоскворецкая  2022-09-19 03:17:00   \n",
              "1091019       11           Большая кольцевая  2022-09-19 03:23:30   \n",
              "1091020        7  Таганско-Краснопресненская  2022-09-19 04:10:42   \n",
              "\n",
              "         time_to_under  label  mean_travel  \n",
              "0           216.316667   8001    23.833333  \n",
              "1           648.183333   9011    44.930000  \n",
              "2           865.333333   7022    27.687778  \n",
              "3          1048.233333   2022     9.880000  \n",
              "4           965.600000   2017     5.690000  \n",
              "...                ...    ...          ...  \n",
              "1091016     124.750000  15005     0.000000  \n",
              "1091017      56.066667   6007     0.000000  \n",
              "1091018      91.283333   2010     0.000000  \n",
              "1091019      47.900000  11014     0.000000  \n",
              "1091020      34.100000   7015     0.000000  \n",
              "\n",
              "[1091021 rows x 13 columns]"
            ],
            "text/html": [
              "\n",
              "  <div id=\"df-b6065dcc-23a4-451a-ae18-e870c210a9b6\">\n",
              "    <div class=\"colab-df-container\">\n",
              "      <div>\n",
              "<style scoped>\n",
              "    .dataframe tbody tr th:only-of-type {\n",
              "        vertical-align: middle;\n",
              "    }\n",
              "\n",
              "    .dataframe tbody tr th {\n",
              "        vertical-align: top;\n",
              "    }\n",
              "\n",
              "    .dataframe thead th {\n",
              "        text-align: right;\n",
              "    }\n",
              "</style>\n",
              "<table border=\"1\" class=\"dataframe\">\n",
              "  <thead>\n",
              "    <tr style=\"text-align: right;\">\n",
              "      <th></th>\n",
              "      <th>id</th>\n",
              "      <th>ticket_id</th>\n",
              "      <th>ticket_type_nm</th>\n",
              "      <th>entrance_id</th>\n",
              "      <th>entrance_nm</th>\n",
              "      <th>station_id</th>\n",
              "      <th>station_nm</th>\n",
              "      <th>line_id</th>\n",
              "      <th>line_nm</th>\n",
              "      <th>pass_dttm</th>\n",
              "      <th>time_to_under</th>\n",
              "      <th>label</th>\n",
              "      <th>mean_travel</th>\n",
              "    </tr>\n",
              "  </thead>\n",
              "  <tbody>\n",
              "    <tr>\n",
              "      <th>0</th>\n",
              "      <td>1</td>\n",
              "      <td>40BD89EC85646EFB69E283F39C298E60</td>\n",
              "      <td>Пропуск FacePay</td>\n",
              "      <td>2402</td>\n",
              "      <td>Лефортово БКЛ</td>\n",
              "      <td>11007</td>\n",
              "      <td>Лефортово</td>\n",
              "      <td>11</td>\n",
              "      <td>Большая кольцевая</td>\n",
              "      <td>2022-09-12 05:00:13</td>\n",
              "      <td>216.316667</td>\n",
              "      <td>8001</td>\n",
              "      <td>23.833333</td>\n",
              "    </tr>\n",
              "    <tr>\n",
              "      <th>1</th>\n",
              "      <td>2</td>\n",
              "      <td>126727A96489CC976A8C08E5CEB00542</td>\n",
              "      <td>СК учащегося 30 дней</td>\n",
              "      <td>110</td>\n",
              "      <td>Войковская ( Южный )</td>\n",
              "      <td>2006</td>\n",
              "      <td>Войковская</td>\n",
              "      <td>2</td>\n",
              "      <td>Замоскворецкая</td>\n",
              "      <td>2022-09-12 05:00:54</td>\n",
              "      <td>648.183333</td>\n",
              "      <td>9011</td>\n",
              "      <td>44.930000</td>\n",
              "    </tr>\n",
              "    <tr>\n",
              "      <th>2</th>\n",
              "      <td>3</td>\n",
              "      <td>D28CE6A9E0E5B6D213470A97CFF32485</td>\n",
              "      <td>БСК дружинника г.Москвы</td>\n",
              "      <td>110</td>\n",
              "      <td>Войковская ( Южный )</td>\n",
              "      <td>2006</td>\n",
              "      <td>Войковская</td>\n",
              "      <td>2</td>\n",
              "      <td>Замоскворецкая</td>\n",
              "      <td>2022-09-12 05:00:55</td>\n",
              "      <td>865.333333</td>\n",
              "      <td>7022</td>\n",
              "      <td>27.687778</td>\n",
              "    </tr>\n",
              "    <tr>\n",
              "      <th>3</th>\n",
              "      <td>4</td>\n",
              "      <td>015DA44B523C062B5BFEFF3FB0E64B9E</td>\n",
              "      <td>30 дней</td>\n",
              "      <td>110</td>\n",
              "      <td>Войковская ( Южный )</td>\n",
              "      <td>2006</td>\n",
              "      <td>Войковская</td>\n",
              "      <td>2</td>\n",
              "      <td>Замоскворецкая</td>\n",
              "      <td>2022-09-12 05:01:13</td>\n",
              "      <td>1048.233333</td>\n",
              "      <td>2022</td>\n",
              "      <td>9.880000</td>\n",
              "    </tr>\n",
              "    <tr>\n",
              "      <th>4</th>\n",
              "      <td>5</td>\n",
              "      <td>95B19C6F3A504727AC3EA56EB7E3E80F</td>\n",
              "      <td>КОШЕЛЕК</td>\n",
              "      <td>110</td>\n",
              "      <td>Войковская ( Южный )</td>\n",
              "      <td>2006</td>\n",
              "      <td>Войковская</td>\n",
              "      <td>2</td>\n",
              "      <td>Замоскворецкая</td>\n",
              "      <td>2022-09-12 05:02:55</td>\n",
              "      <td>965.600000</td>\n",
              "      <td>2017</td>\n",
              "      <td>5.690000</td>\n",
              "    </tr>\n",
              "    <tr>\n",
              "      <th>...</th>\n",
              "      <td>...</td>\n",
              "      <td>...</td>\n",
              "      <td>...</td>\n",
              "      <td>...</td>\n",
              "      <td>...</td>\n",
              "      <td>...</td>\n",
              "      <td>...</td>\n",
              "      <td>...</td>\n",
              "      <td>...</td>\n",
              "      <td>...</td>\n",
              "      <td>...</td>\n",
              "      <td>...</td>\n",
              "      <td>...</td>\n",
              "    </tr>\n",
              "    <tr>\n",
              "      <th>1091016</th>\n",
              "      <td>1091017</td>\n",
              "      <td>6A738232F8E43DFCD4027FDC0EA6CC03</td>\n",
              "      <td>Пропуск FacePay</td>\n",
              "      <td>2283</td>\n",
              "      <td>Нижегородская (второй)</td>\n",
              "      <td>15005</td>\n",
              "      <td>Нижегородская</td>\n",
              "      <td>15</td>\n",
              "      <td>Некрасовская</td>\n",
              "      <td>2022-09-19 02:54:50</td>\n",
              "      <td>124.750000</td>\n",
              "      <td>15005</td>\n",
              "      <td>0.000000</td>\n",
              "    </tr>\n",
              "    <tr>\n",
              "      <th>1091017</th>\n",
              "      <td>1091018</td>\n",
              "      <td>141174B366F14A8703903813A49374DB</td>\n",
              "      <td>Пропуск FacePay</td>\n",
              "      <td>278</td>\n",
              "      <td>Калужская (Северный)</td>\n",
              "      <td>6007</td>\n",
              "      <td>Калужская</td>\n",
              "      <td>6</td>\n",
              "      <td>Калужско-Рижская</td>\n",
              "      <td>2022-09-19 03:06:02</td>\n",
              "      <td>56.066667</td>\n",
              "      <td>6007</td>\n",
              "      <td>0.000000</td>\n",
              "    </tr>\n",
              "    <tr>\n",
              "      <th>1091018</th>\n",
              "      <td>1091019</td>\n",
              "      <td>E38493B30A7C55170806F187AF5EEA15</td>\n",
              "      <td>Пропуск FacePay</td>\n",
              "      <td>118</td>\n",
              "      <td>Каширская (Северный )</td>\n",
              "      <td>2010</td>\n",
              "      <td>Каширская</td>\n",
              "      <td>2</td>\n",
              "      <td>Замоскворецкая</td>\n",
              "      <td>2022-09-19 03:17:00</td>\n",
              "      <td>91.283333</td>\n",
              "      <td>2010</td>\n",
              "      <td>0.000000</td>\n",
              "    </tr>\n",
              "    <tr>\n",
              "      <th>1091019</th>\n",
              "      <td>1091020</td>\n",
              "      <td>3DF2B6366631ECA06274DD2CB5B0DF24</td>\n",
              "      <td>Пропуск FacePay</td>\n",
              "      <td>2452</td>\n",
              "      <td>Воронцовская (Первый)</td>\n",
              "      <td>11014</td>\n",
              "      <td>Воронцовская</td>\n",
              "      <td>11</td>\n",
              "      <td>Большая кольцевая</td>\n",
              "      <td>2022-09-19 03:23:30</td>\n",
              "      <td>47.900000</td>\n",
              "      <td>11014</td>\n",
              "      <td>0.000000</td>\n",
              "    </tr>\n",
              "    <tr>\n",
              "      <th>1091020</th>\n",
              "      <td>1091021</td>\n",
              "      <td>80DA097A0BBFD91F5B15697AD53F8D3B</td>\n",
              "      <td>Пропуск FacePay</td>\n",
              "      <td>320</td>\n",
              "      <td>Пушкинская</td>\n",
              "      <td>7015</td>\n",
              "      <td>Пушкинская</td>\n",
              "      <td>7</td>\n",
              "      <td>Таганско-Краснопресненская</td>\n",
              "      <td>2022-09-19 04:10:42</td>\n",
              "      <td>34.100000</td>\n",
              "      <td>7015</td>\n",
              "      <td>0.000000</td>\n",
              "    </tr>\n",
              "  </tbody>\n",
              "</table>\n",
              "<p>1091021 rows × 13 columns</p>\n",
              "</div>\n",
              "      <button class=\"colab-df-convert\" onclick=\"convertToInteractive('df-b6065dcc-23a4-451a-ae18-e870c210a9b6')\"\n",
              "              title=\"Convert this dataframe to an interactive table.\"\n",
              "              style=\"display:none;\">\n",
              "        \n",
              "  <svg xmlns=\"http://www.w3.org/2000/svg\" height=\"24px\"viewBox=\"0 0 24 24\"\n",
              "       width=\"24px\">\n",
              "    <path d=\"M0 0h24v24H0V0z\" fill=\"none\"/>\n",
              "    <path d=\"M18.56 5.44l.94 2.06.94-2.06 2.06-.94-2.06-.94-.94-2.06-.94 2.06-2.06.94zm-11 1L8.5 8.5l.94-2.06 2.06-.94-2.06-.94L8.5 2.5l-.94 2.06-2.06.94zm10 10l.94 2.06.94-2.06 2.06-.94-2.06-.94-.94-2.06-.94 2.06-2.06.94z\"/><path d=\"M17.41 7.96l-1.37-1.37c-.4-.4-.92-.59-1.43-.59-.52 0-1.04.2-1.43.59L10.3 9.45l-7.72 7.72c-.78.78-.78 2.05 0 2.83L4 21.41c.39.39.9.59 1.41.59.51 0 1.02-.2 1.41-.59l7.78-7.78 2.81-2.81c.8-.78.8-2.07 0-2.86zM5.41 20L4 18.59l7.72-7.72 1.47 1.35L5.41 20z\"/>\n",
              "  </svg>\n",
              "      </button>\n",
              "      \n",
              "  <style>\n",
              "    .colab-df-container {\n",
              "      display:flex;\n",
              "      flex-wrap:wrap;\n",
              "      gap: 12px;\n",
              "    }\n",
              "\n",
              "    .colab-df-convert {\n",
              "      background-color: #E8F0FE;\n",
              "      border: none;\n",
              "      border-radius: 50%;\n",
              "      cursor: pointer;\n",
              "      display: none;\n",
              "      fill: #1967D2;\n",
              "      height: 32px;\n",
              "      padding: 0 0 0 0;\n",
              "      width: 32px;\n",
              "    }\n",
              "\n",
              "    .colab-df-convert:hover {\n",
              "      background-color: #E2EBFA;\n",
              "      box-shadow: 0px 1px 2px rgba(60, 64, 67, 0.3), 0px 1px 3px 1px rgba(60, 64, 67, 0.15);\n",
              "      fill: #174EA6;\n",
              "    }\n",
              "\n",
              "    [theme=dark] .colab-df-convert {\n",
              "      background-color: #3B4455;\n",
              "      fill: #D2E3FC;\n",
              "    }\n",
              "\n",
              "    [theme=dark] .colab-df-convert:hover {\n",
              "      background-color: #434B5C;\n",
              "      box-shadow: 0px 1px 3px 1px rgba(0, 0, 0, 0.15);\n",
              "      filter: drop-shadow(0px 1px 2px rgba(0, 0, 0, 0.3));\n",
              "      fill: #FFFFFF;\n",
              "    }\n",
              "  </style>\n",
              "\n",
              "      <script>\n",
              "        const buttonEl =\n",
              "          document.querySelector('#df-b6065dcc-23a4-451a-ae18-e870c210a9b6 button.colab-df-convert');\n",
              "        buttonEl.style.display =\n",
              "          google.colab.kernel.accessAllowed ? 'block' : 'none';\n",
              "\n",
              "        async function convertToInteractive(key) {\n",
              "          const element = document.querySelector('#df-b6065dcc-23a4-451a-ae18-e870c210a9b6');\n",
              "          const dataTable =\n",
              "            await google.colab.kernel.invokeFunction('convertToInteractive',\n",
              "                                                     [key], {});\n",
              "          if (!dataTable) return;\n",
              "\n",
              "          const docLinkHtml = 'Like what you see? Visit the ' +\n",
              "            '<a target=\"_blank\" href=https://colab.research.google.com/notebooks/data_table.ipynb>data table notebook</a>'\n",
              "            + ' to learn more about interactive tables.';\n",
              "          element.innerHTML = '';\n",
              "          dataTable['output_type'] = 'display_data';\n",
              "          await google.colab.output.renderOutput(dataTable, element);\n",
              "          const docLink = document.createElement('div');\n",
              "          docLink.innerHTML = docLinkHtml;\n",
              "          element.appendChild(docLink);\n",
              "        }\n",
              "      </script>\n",
              "    </div>\n",
              "  </div>\n",
              "  "
            ]
          },
          "metadata": {},
          "execution_count": 6
        }
      ]
    },
    {
      "cell_type": "code",
      "source": [
        "df[df.isna().any(axis=1)]"
      ],
      "metadata": {
        "colab": {
          "base_uri": "https://localhost:8080/",
          "height": 49
        },
        "id": "PW_vTR6eSxSb",
        "outputId": "a8eeafc6-6a76-42ee-e08c-803d593290de"
      },
      "execution_count": 7,
      "outputs": [
        {
          "output_type": "execute_result",
          "data": {
            "text/plain": [
              "Empty DataFrame\n",
              "Columns: [id, ticket_id, ticket_type_nm, entrance_id, entrance_nm, station_id, station_nm, line_id, line_nm, pass_dttm, time_to_under, label, mean_travel]\n",
              "Index: []"
            ],
            "text/html": [
              "\n",
              "  <div id=\"df-e8fbabd1-247d-47c2-a562-215c604558d4\">\n",
              "    <div class=\"colab-df-container\">\n",
              "      <div>\n",
              "<style scoped>\n",
              "    .dataframe tbody tr th:only-of-type {\n",
              "        vertical-align: middle;\n",
              "    }\n",
              "\n",
              "    .dataframe tbody tr th {\n",
              "        vertical-align: top;\n",
              "    }\n",
              "\n",
              "    .dataframe thead th {\n",
              "        text-align: right;\n",
              "    }\n",
              "</style>\n",
              "<table border=\"1\" class=\"dataframe\">\n",
              "  <thead>\n",
              "    <tr style=\"text-align: right;\">\n",
              "      <th></th>\n",
              "      <th>id</th>\n",
              "      <th>ticket_id</th>\n",
              "      <th>ticket_type_nm</th>\n",
              "      <th>entrance_id</th>\n",
              "      <th>entrance_nm</th>\n",
              "      <th>station_id</th>\n",
              "      <th>station_nm</th>\n",
              "      <th>line_id</th>\n",
              "      <th>line_nm</th>\n",
              "      <th>pass_dttm</th>\n",
              "      <th>time_to_under</th>\n",
              "      <th>label</th>\n",
              "      <th>mean_travel</th>\n",
              "    </tr>\n",
              "  </thead>\n",
              "  <tbody>\n",
              "  </tbody>\n",
              "</table>\n",
              "</div>\n",
              "      <button class=\"colab-df-convert\" onclick=\"convertToInteractive('df-e8fbabd1-247d-47c2-a562-215c604558d4')\"\n",
              "              title=\"Convert this dataframe to an interactive table.\"\n",
              "              style=\"display:none;\">\n",
              "        \n",
              "  <svg xmlns=\"http://www.w3.org/2000/svg\" height=\"24px\"viewBox=\"0 0 24 24\"\n",
              "       width=\"24px\">\n",
              "    <path d=\"M0 0h24v24H0V0z\" fill=\"none\"/>\n",
              "    <path d=\"M18.56 5.44l.94 2.06.94-2.06 2.06-.94-2.06-.94-.94-2.06-.94 2.06-2.06.94zm-11 1L8.5 8.5l.94-2.06 2.06-.94-2.06-.94L8.5 2.5l-.94 2.06-2.06.94zm10 10l.94 2.06.94-2.06 2.06-.94-2.06-.94-.94-2.06-.94 2.06-2.06.94z\"/><path d=\"M17.41 7.96l-1.37-1.37c-.4-.4-.92-.59-1.43-.59-.52 0-1.04.2-1.43.59L10.3 9.45l-7.72 7.72c-.78.78-.78 2.05 0 2.83L4 21.41c.39.39.9.59 1.41.59.51 0 1.02-.2 1.41-.59l7.78-7.78 2.81-2.81c.8-.78.8-2.07 0-2.86zM5.41 20L4 18.59l7.72-7.72 1.47 1.35L5.41 20z\"/>\n",
              "  </svg>\n",
              "      </button>\n",
              "      \n",
              "  <style>\n",
              "    .colab-df-container {\n",
              "      display:flex;\n",
              "      flex-wrap:wrap;\n",
              "      gap: 12px;\n",
              "    }\n",
              "\n",
              "    .colab-df-convert {\n",
              "      background-color: #E8F0FE;\n",
              "      border: none;\n",
              "      border-radius: 50%;\n",
              "      cursor: pointer;\n",
              "      display: none;\n",
              "      fill: #1967D2;\n",
              "      height: 32px;\n",
              "      padding: 0 0 0 0;\n",
              "      width: 32px;\n",
              "    }\n",
              "\n",
              "    .colab-df-convert:hover {\n",
              "      background-color: #E2EBFA;\n",
              "      box-shadow: 0px 1px 2px rgba(60, 64, 67, 0.3), 0px 1px 3px 1px rgba(60, 64, 67, 0.15);\n",
              "      fill: #174EA6;\n",
              "    }\n",
              "\n",
              "    [theme=dark] .colab-df-convert {\n",
              "      background-color: #3B4455;\n",
              "      fill: #D2E3FC;\n",
              "    }\n",
              "\n",
              "    [theme=dark] .colab-df-convert:hover {\n",
              "      background-color: #434B5C;\n",
              "      box-shadow: 0px 1px 3px 1px rgba(0, 0, 0, 0.15);\n",
              "      filter: drop-shadow(0px 1px 2px rgba(0, 0, 0, 0.3));\n",
              "      fill: #FFFFFF;\n",
              "    }\n",
              "  </style>\n",
              "\n",
              "      <script>\n",
              "        const buttonEl =\n",
              "          document.querySelector('#df-e8fbabd1-247d-47c2-a562-215c604558d4 button.colab-df-convert');\n",
              "        buttonEl.style.display =\n",
              "          google.colab.kernel.accessAllowed ? 'block' : 'none';\n",
              "\n",
              "        async function convertToInteractive(key) {\n",
              "          const element = document.querySelector('#df-e8fbabd1-247d-47c2-a562-215c604558d4');\n",
              "          const dataTable =\n",
              "            await google.colab.kernel.invokeFunction('convertToInteractive',\n",
              "                                                     [key], {});\n",
              "          if (!dataTable) return;\n",
              "\n",
              "          const docLinkHtml = 'Like what you see? Visit the ' +\n",
              "            '<a target=\"_blank\" href=https://colab.research.google.com/notebooks/data_table.ipynb>data table notebook</a>'\n",
              "            + ' to learn more about interactive tables.';\n",
              "          element.innerHTML = '';\n",
              "          dataTable['output_type'] = 'display_data';\n",
              "          await google.colab.output.renderOutput(dataTable, element);\n",
              "          const docLink = document.createElement('div');\n",
              "          docLink.innerHTML = docLinkHtml;\n",
              "          element.appendChild(docLink);\n",
              "        }\n",
              "      </script>\n",
              "    </div>\n",
              "  </div>\n",
              "  "
            ]
          },
          "metadata": {},
          "execution_count": 7
        }
      ]
    },
    {
      "cell_type": "code",
      "source": [
        "df.ticket_type_nm.value_counts()"
      ],
      "metadata": {
        "colab": {
          "base_uri": "https://localhost:8080/"
        },
        "id": "E9tgb1ZZmfZ-",
        "outputId": "e8b94f9b-c69c-41ab-c901-588486fcdc00"
      },
      "execution_count": 8,
      "outputs": [
        {
          "output_type": "execute_result",
          "data": {
            "text/plain": [
              "КОШЕЛЕК                                                   262499\n",
              "30 дней ЕДИНЫЙ ТК                                         177041\n",
              "Социальная карта москвича                                 127022\n",
              "30 дней                                                   117064\n",
              "90 дней ЕДИНЫЙ ТК                                          58071\n",
              "30 дней СК студента                                        48658\n",
              "60 поездок ЕДИНЫЙ ТК                                       46542\n",
              "30 дней Пригород ТК                                        45381\n",
              "СК студента 30 дней                                        39395\n",
              "ББК                                                        29674\n",
              "30 дней СК учащегося                                       24307\n",
              "365 дней ЕДИНЫЙ ТК                                         20859\n",
              "СК учащегося 30 дней                                       16933\n",
              "Социальная карта жителя Моск. области                      15551\n",
              "90 дней                                                    12817\n",
              "Пропуск FacePay                                             9234\n",
              "СК студента 90 дней                                         6744\n",
              "СК учащегося 90 дней                                        3169\n",
              "30 дней  Пригород                                           3098\n",
              "БСК дружинника г.Москвы                                     2829\n",
              "СК для сотрудника ГУВД г.Москвы                             2634\n",
              "ВЕСБ МОСКВА (7мин)                                          2555\n",
              "90 дней СК студента                                         2535\n",
              "Социальная карта москвича с сопровождающим                  2272\n",
              "90 дней Пригород ТК                                         2258\n",
              "90 дней СК учащегося                                        1549\n",
              "30 дней СК ординатора                                       1264\n",
              "365 дней Пригород ТК                                        1173\n",
              "СК ординатора 30 дней                                       1166\n",
              "30 дней СК аспиранта                                        1045\n",
              "СК аспиранта 30 дней                                         869\n",
              "365 дней                                                     768\n",
              "Пропуск сотрудника УВД по охране Метрополитена               541\n",
              "СК аспиранта 90 дней                                         510\n",
              "3 суток Единый ТК                                            504\n",
              "СК ординатора 90 дней                                        361\n",
              "ВЕСБ МО (7 мин)                                              335\n",
              "Социальная карта жителя Моск. области с сопровождающим       244\n",
              "Ультралайт Единый (70)                                       233\n",
              "90 дней  Пригород                                            188\n",
              "Временный билет ММ                                           159\n",
              "90 дней СК ординатора                                        142\n",
              "1 сутки ЕДИНЫЙ ТК                                            123\n",
              "Пропуск сотрудника  метрополитена                            113\n",
              "Билет 3 суток ЕДИНЫЙ                                         113\n",
              "90 дней СК аспиранта                                          92\n",
              "ВЕСБ МО (тип 5)                                               61\n",
              "Безналичная транспортная карта                                60\n",
              "ВЕСБ МОСКВА                                                   56\n",
              "30 дней СК ассистента-стажера                                 49\n",
              "Пропуск  сотрудника МЦК                                       44\n",
              "СК ассистента-стажера 30 дней                                 34\n",
              "365 дней  Пригород                                            30\n",
              "Пропуск руководителя метрополитена                            24\n",
              "СК ассистента-стажера 90 дней                                 10\n",
              "1 сутки Пригород ТК                                            7\n",
              "ВЛБ МОСКВА                                                     6\n",
              "ВЕСБ МО с сопровождающим                                       2\n",
              "ВЕСБ МО (тип 6)                                                2\n",
              "Билет 1 сутки ЕДИНЫЙ                                           2\n",
              "Name: ticket_type_nm, dtype: int64"
            ]
          },
          "metadata": {},
          "execution_count": 8
        }
      ]
    },
    {
      "cell_type": "code",
      "source": [
        "df.ticket_type_nm.replace('СК учащегося 90 дней', '30 дней СК учащегося', inplace=True)\n",
        "df.ticket_type_nm.replace('СК студента 90 дней', '30 дней СК студента', inplace=True)\n",
        "df.ticket_type_nm.replace('90 дней СК учащегося', '30 дней СК учащегося', inplace=True)\n",
        "df.ticket_type_nm.replace('СК учащегося 30 дней', '30 дней СК учащегося', inplace=True)\n",
        "df.ticket_type_nm.replace('90 дней СК студента', '30 дней СК студента', inplace=True)\n",
        "df.ticket_type_nm.replace('СК студента 30 дней', '30 дней СК студента', inplace=True)\n",
        "df.ticket_type_nm.replace('365 дней ЕДИНЫЙ ТК', '90 дней ЕДИНЫЙ ТК', inplace=True)\n",
        "df.ticket_type_nm.replace('90 дней', '90 дней ЕДИНЫЙ ТК', inplace=True)\n",
        "df.ticket_type_nm.replace('90 дней Пригород ТК', '30 дней Пригород ТК', inplace=True)\n",
        "df.ticket_type_nm.replace('90 дней Пригород', '30 дней Пригород ТК', inplace=True)\n",
        "df.ticket_type_nm.replace('365 дней Пригород ТК', '30 дней Пригород ТК', inplace=True)\n",
        "df.ticket_type_nm.replace('365 дней  Пригород ТК', '30 дней Пригород ТК', inplace=True)\n",
        "df.ticket_type_nm.replace('365 дней  Пригород', '30 дней Пригород ТК', inplace=True)\n",
        "df.ticket_type_nm.replace('1 сутки Пригород ТК', '30 дней Пригород ТК', inplace=True)\n",
        "df.ticket_type_nm.replace('90 дней  Пригород', '30 дней Пригород ТК', inplace=True)\n",
        "\n",
        "\n",
        "df.ticket_type_nm.replace('30 дней СК аспиранта', 'СК аспиранта 30 дней', inplace=True)\n",
        "df.ticket_type_nm.replace('90 дней СК аспиранта', 'СК аспиранта 30 дней', inplace=True)\n",
        "df.ticket_type_nm.replace('СК аспиранта 90 дней', 'СК аспиранта 30 дней', inplace=True)\n",
        "\n",
        "df.ticket_type_nm.replace('90 дней СК ординатора', 'СК ординатора 30 дней', inplace=True)\n",
        "df.ticket_type_nm.replace('СК ординатора 90 дней', 'СК ординатора 30 дней', inplace=True)\n",
        "df.ticket_type_nm.replace('30 дней СК ординатора', 'СК ординатора 30 дней', inplace=True)\n",
        "\n",
        "\n",
        "df.ticket_type_nm.replace('365 дней', '90 дней ЕДИНЫЙ ТК', inplace=True)\n",
        "\n",
        "df.ticket_type_nm.replace('ВЕСБ МОСКВА', 'ВЕСБ МОСКВА (7мин)', inplace=True)\n",
        "df.ticket_type_nm.replace('ВЕСБ МО (тип 5)', 'ВЕСБ МО (7 мин)', inplace=True)\n",
        "df.ticket_type_nm.replace('ВЕСБ МО с сопровождающим', 'ВЕСБ МО (7 мин)', inplace=True)\n",
        "df.ticket_type_nm.replace('ВЕСБ МО (тип 6)', 'ВЕСБ МО (7 мин)', inplace=True)\n",
        "df.ticket_type_nm.replace('ВЛБ МОСКВА', 'ВЕСБ МО (7 мин)', inplace=True)\n",
        "\n",
        "df.ticket_type_nm.replace('СК ассистента-стажера 30 дней', '30 дней СК ассистента-стажера', inplace=True)\n",
        "df.ticket_type_nm.replace('СК ассистента-стажера 90 дней', '30 дней СК ассистента-стажера', inplace=True)\n",
        "\n",
        "df.ticket_type_nm.replace('Билет 1 сутки ЕДИНЫЙ', '1 сутки ЕДИНЫЙ ТК', inplace=True)\n",
        "\n",
        "df.ticket_type_nm.replace('Билет 3 суток ЕДИНЫЙ', '1 сутки ЕДИНЫЙ ТК', inplace=True)\n",
        "df.ticket_type_nm.replace('3 суток Единый ТК', '1 сутки ЕДИНЫЙ ТК', inplace=True)\n",
        "\n",
        "df.ticket_type_nm.replace('Ультралайт Единый (70)', '60 поездок ЕДИНЫЙ ТК', inplace=True)\n",
        "\n",
        "df['station_id'] = df['station_id'].astype(\"category\")\n",
        "df.ticket_type_nm.value_counts()"
      ],
      "metadata": {
        "colab": {
          "base_uri": "https://localhost:8080/"
        },
        "id": "wDjitjbmog4G",
        "outputId": "7fbedc82-ecff-4bc7-c435-4b4442298799"
      },
      "execution_count": 9,
      "outputs": [
        {
          "output_type": "execute_result",
          "data": {
            "text/plain": [
              "КОШЕЛЕК                                                   262499\n",
              "30 дней ЕДИНЫЙ ТК                                         177041\n",
              "Социальная карта москвича                                 127022\n",
              "30 дней                                                   117064\n",
              "30 дней СК студента                                        97332\n",
              "90 дней ЕДИНЫЙ ТК                                          92515\n",
              "30 дней Пригород ТК                                        49037\n",
              "60 поездок ЕДИНЫЙ ТК                                       46775\n",
              "30 дней СК учащегося                                       45958\n",
              "ББК                                                        29674\n",
              "Социальная карта жителя Моск. области                      15551\n",
              "Пропуск FacePay                                             9234\n",
              "30 дней  Пригород                                           3098\n",
              "СК ординатора 30 дней                                       2933\n",
              "БСК дружинника г.Москвы                                     2829\n",
              "СК для сотрудника ГУВД г.Москвы                             2634\n",
              "ВЕСБ МОСКВА (7мин)                                          2611\n",
              "СК аспиранта 30 дней                                        2516\n",
              "Социальная карта москвича с сопровождающим                  2272\n",
              "1 сутки ЕДИНЫЙ ТК                                            742\n",
              "Пропуск сотрудника УВД по охране Метрополитена               541\n",
              "ВЕСБ МО (7 мин)                                              406\n",
              "Социальная карта жителя Моск. области с сопровождающим       244\n",
              "Временный билет ММ                                           159\n",
              "Пропуск сотрудника  метрополитена                            113\n",
              "30 дней СК ассистента-стажера                                 93\n",
              "Безналичная транспортная карта                                60\n",
              "Пропуск  сотрудника МЦК                                       44\n",
              "Пропуск руководителя метрополитена                            24\n",
              "Name: ticket_type_nm, dtype: int64"
            ]
          },
          "metadata": {},
          "execution_count": 9
        }
      ]
    },
    {
      "cell_type": "code",
      "source": [
        "weirdos = df.ticket_type_nm.value_counts()[df.ticket_type_nm.value_counts() < 2000].index.to_list()\n",
        "for weird in weirdos:\n",
        "  df.ticket_type_nm.replace(weird, 'КОШЕЛЕК', inplace=True)\n"
      ],
      "metadata": {
        "id": "GJyNV_H_tORO"
      },
      "execution_count": 10,
      "outputs": []
    },
    {
      "cell_type": "code",
      "source": [
        "from datetime import datetime\n",
        "\n",
        "q3_df = df.groupby('ticket_type_nm').apply(lambda x :\n",
        "          x[(x.time_to_under <= x.time_to_under.quantile(0.90)) \n",
        "          & (x.time_to_under >= x.time_to_under.quantile(0.10))]).reset_index(drop=True)\n",
        "q3_df['pass_dt'] = [datetime.strptime(d, '%Y-%m-%d %H:%M:%S') for d in q3_df['pass_dttm']]\n",
        "q3_df['weekday'] = [d.date().weekday() for d in q3_df['pass_dt']]\n",
        "q3_df['hour'] = [d.time().hour for d in q3_df['pass_dt']]\n",
        "q3_df['time_cont'] = [d.time().hour * d.time().minute / 24 / 60 for d in q3_df['pass_dt']]\n"
      ],
      "metadata": {
        "id": "090rdaUbC6l5"
      },
      "execution_count": 11,
      "outputs": []
    },
    {
      "cell_type": "code",
      "source": [
        "q3_df.hour.value_counts()"
      ],
      "metadata": {
        "colab": {
          "base_uri": "https://localhost:8080/"
        },
        "id": "IGQ0lgVU42Cy",
        "outputId": "316b94ae-50c4-44d1-c1f9-139ca9f90879"
      },
      "execution_count": 12,
      "outputs": [
        {
          "output_type": "execute_result",
          "data": {
            "text/plain": [
              "8     202237\n",
              "7     176898\n",
              "9     122004\n",
              "6      87848\n",
              "10     66960\n",
              "11     46042\n",
              "12     33658\n",
              "13     29470\n",
              "14     22671\n",
              "15     18934\n",
              "16     15407\n",
              "5      14958\n",
              "17     13923\n",
              "18     10426\n",
              "0       4850\n",
              "19      4504\n",
              "20      1281\n",
              "1        267\n",
              "21       206\n",
              "2         96\n",
              "4         81\n",
              "22        73\n",
              "3         39\n",
              "Name: hour, dtype: int64"
            ]
          },
          "metadata": {},
          "execution_count": 12
        }
      ]
    },
    {
      "cell_type": "code",
      "source": [
        "\n",
        "q3_df.hour.replace(1, 0, inplace=True)\n",
        "q3_df.hour.replace(2, 0, inplace=True)\n",
        "q3_df.hour.replace(3, 0, inplace=True)\n",
        "q3_df.hour.replace(4, 0, inplace=True)\n",
        "\n",
        "q3_df.hour.replace(20, 19, inplace=True)\n",
        "q3_df.hour.replace(21, 19, inplace=True)\n",
        "q3_df.hour.replace(22, 19, inplace=True)\n",
        "\n",
        "q3_df.hour.value_counts()"
      ],
      "metadata": {
        "colab": {
          "base_uri": "https://localhost:8080/"
        },
        "id": "4hHD2R7s43q8",
        "outputId": "09c9cc8d-fd38-4300-ae57-51164bd35793"
      },
      "execution_count": 13,
      "outputs": [
        {
          "output_type": "execute_result",
          "data": {
            "text/plain": [
              "8     202237\n",
              "7     176898\n",
              "9     122004\n",
              "6      87848\n",
              "10     66960\n",
              "11     46042\n",
              "12     33658\n",
              "13     29470\n",
              "14     22671\n",
              "15     18934\n",
              "16     15407\n",
              "5      14958\n",
              "17     13923\n",
              "18     10426\n",
              "19      6064\n",
              "0       5333\n",
              "Name: hour, dtype: int64"
            ]
          },
          "metadata": {},
          "execution_count": 13
        }
      ]
    },
    {
      "cell_type": "code",
      "source": [
        "q3_df.weekday.value_counts()"
      ],
      "metadata": {
        "colab": {
          "base_uri": "https://localhost:8080/"
        },
        "id": "Ow1wGC9y6wCg",
        "outputId": "818d9f2e-ec18-472d-e083-5bd1fc1e6787"
      },
      "execution_count": 14,
      "outputs": [
        {
          "output_type": "execute_result",
          "data": {
            "text/plain": [
              "1    140703\n",
              "0    139808\n",
              "2    139441\n",
              "3    137285\n",
              "4    131846\n",
              "5    100579\n",
              "6     83171\n",
              "Name: weekday, dtype: int64"
            ]
          },
          "metadata": {},
          "execution_count": 14
        }
      ]
    },
    {
      "cell_type": "code",
      "source": [
        "q3_df.ticket_type_nm.value_counts()"
      ],
      "metadata": {
        "colab": {
          "base_uri": "https://localhost:8080/"
        },
        "id": "7QAlwnZ8-CFV",
        "outputId": "263b966c-ffc0-4071-ac8f-47e5a9384eda"
      },
      "execution_count": 16,
      "outputs": [
        {
          "output_type": "execute_result",
          "data": {
            "text/plain": [
              "КОШЕЛЕК                                       211946\n",
              "30 дней ЕДИНЫЙ ТК                             141638\n",
              "Социальная карта москвича                     101618\n",
              "30 дней                                        93657\n",
              "30 дней СК студента                            77869\n",
              "90 дней ЕДИНЫЙ ТК                              74014\n",
              "30 дней Пригород ТК                            39229\n",
              "60 поездок ЕДИНЫЙ ТК                           37419\n",
              "30 дней СК учащегося                           36767\n",
              "ББК                                            23739\n",
              "Социальная карта жителя Моск. области          12441\n",
              "Пропуск FacePay                                 7387\n",
              "30 дней  Пригород                               2478\n",
              "СК ординатора 30 дней                           2345\n",
              "БСК дружинника г.Москвы                         2263\n",
              "СК для сотрудника ГУВД г.Москвы                 2106\n",
              "ВЕСБ МОСКВА (7мин)                              2089\n",
              "СК аспиранта 30 дней                            2012\n",
              "Социальная карта москвича с сопровождающим      1816\n",
              "Name: ticket_type_nm, dtype: int64"
            ]
          },
          "metadata": {},
          "execution_count": 16
        }
      ]
    },
    {
      "cell_type": "code",
      "source": [
        "from sklearn.linear_model import LinearRegression\n",
        "from sklearn.linear_model import SGDRegressor\n",
        "from sklearn.linear_model import Ridge\n",
        "from sklearn.preprocessing import OneHotEncoder\n",
        "from sklearn.preprocessing import StandardScaler\n",
        "from sklearn.preprocessing import PolynomialFeatures\n",
        "from sklearn.model_selection import train_test_split\n",
        "from sklearn.model_selection import GridSearchCV\n",
        "import numpy as np\n",
        "\n",
        "\n",
        "sample = q3_df\n",
        "enc = OneHotEncoder()\n",
        "x_raw = sample[['ticket_type_nm', 'line_id', 'hour', 'weekday']].values # 'weekday', 'hour', 'ticket_type_nm'\n",
        "x_enc = enc.fit_transform(x_raw)\n",
        "\n",
        "scaler = StandardScaler()\n",
        "y_raw = sample['time_to_under'].values.reshape(-1, 1)\n",
        "y_std = scaler.fit_transform(y_raw).ravel()\n",
        "\n",
        "x_train, x_test, y_train, y_test = train_test_split(x_enc, y_std, train_size=1000, test_size=1000, random_state=42)\n",
        "\n",
        "# poly = PolynomialFeatures(2)\n",
        "# x_train = poly.fit_transform(x_train)\n",
        "# x_test = poly.fit_transform(x_test)\n",
        "\n",
        "distributions = dict(alpha=np.linspace(1e-5, 10, 100))\n",
        "\n",
        "reg = Ridge()  #SGDRegressor(max_iter=100)\n",
        "reg = GridSearchCV(reg, distributions)\n",
        "search = reg.fit(x_train, y_train)#LinearRegression().fit(x_train, y_train)\n",
        "print(search.best_params_)\n",
        "reg.score(x_train, y_train)\n",
        "\n",
        "reg = Ridge(**search.best_params_)\n",
        "reg.fit(x_train, y_train)\n",
        "reg.score(x_train, y_train)"
      ],
      "metadata": {
        "colab": {
          "base_uri": "https://localhost:8080/"
        },
        "id": "o1TVmY-IMu79",
        "outputId": "582cb885-236c-4acc-af01-4e8f7dd3e7d9"
      },
      "execution_count": 17,
      "outputs": [
        {
          "output_type": "stream",
          "name": "stdout",
          "text": [
            "{'alpha': 2.22223}\n"
          ]
        },
        {
          "output_type": "execute_result",
          "data": {
            "text/plain": [
              "0.5300554480312403"
            ]
          },
          "metadata": {},
          "execution_count": 17
        }
      ]
    },
    {
      "cell_type": "code",
      "source": [
        "reg.score(x_test, y_test)\n",
        "regscore = reg.score(x_test, y_test)"
      ],
      "metadata": {
        "id": "E8bxHQPJGIvp"
      },
      "execution_count": 18,
      "outputs": []
    },
    {
      "cell_type": "code",
      "source": [
        "q3_df.label.value_counts()"
      ],
      "metadata": {
        "colab": {
          "base_uri": "https://localhost:8080/"
        },
        "id": "oC3d0nTt8A06",
        "outputId": "5cdb61bc-3fd2-4485-8a42-87c9b46e4002"
      },
      "execution_count": 19,
      "outputs": [
        {
          "output_type": "execute_result",
          "data": {
            "text/plain": [
              "3002     14931\n",
              "6008     12824\n",
              "1022     11817\n",
              "7022     11055\n",
              "5010     10929\n",
              "         ...  \n",
              "13002       20\n",
              "13003       16\n",
              "13006       13\n",
              "13004        6\n",
              "13005        5\n",
              "Name: label, Length: 276, dtype: int64"
            ]
          },
          "metadata": {},
          "execution_count": 19
        }
      ]
    },
    {
      "cell_type": "code",
      "source": [
        "keep_index = q3_df.label.value_counts()[q3_df.label.value_counts() > 1000].index\n",
        "classification_df = q3_df[q3_df.label.isin(keep_index)]\n",
        "classification_df.label.value_counts()"
      ],
      "metadata": {
        "colab": {
          "base_uri": "https://localhost:8080/"
        },
        "id": "7t-J9_MRdsA1",
        "outputId": "f1c07afd-e15d-471d-b842-0d7d7519a0fc"
      },
      "execution_count": 20,
      "outputs": [
        {
          "output_type": "execute_result",
          "data": {
            "text/plain": [
              "3002     14931\n",
              "6008     12824\n",
              "1022     11817\n",
              "7022     11055\n",
              "5010     10929\n",
              "         ...  \n",
              "10021     1022\n",
              "12003     1015\n",
              "4012      1009\n",
              "9017      1007\n",
              "14022     1007\n",
              "Name: label, Length: 223, dtype: int64"
            ]
          },
          "metadata": {},
          "execution_count": 20
        }
      ]
    },
    {
      "cell_type": "code",
      "source": [
        "from sklearn.ensemble import RandomForestClassifier\n",
        "from sklearn.preprocessing import OneHotEncoder\n",
        "from sklearn.preprocessing import StandardScaler\n",
        "from sklearn.model_selection import train_test_split\n",
        "from sklearn.linear_model import LogisticRegression\n",
        "from sklearn.model_selection import RandomizedSearchCV\n",
        "from sklearn.linear_model import SGDClassifier\n",
        "from sklearn.naive_bayes import GaussianNB\n",
        "from sklearn.neighbors import KNeighborsClassifier\n",
        "from sklearn import tree\n",
        "from sklearn import svm\n",
        "\n",
        "\n",
        "enc = OneHotEncoder(sparse=False)\n",
        "\n",
        "scaler = StandardScaler()\n",
        "x_raw = classification_df[['ticket_type_nm', 'station_id']].values\n",
        "x_std = scaler.fit_transform(classification_df[['time_to_under', 'time_cont']].values)\n",
        "x_enc = enc.fit_transform(x_raw)\n",
        "x_final = np.append(x_enc, x_std, axis=1)\n",
        "\n",
        "y = classification_df['label'].values\n",
        "\n",
        "x_train, x_test, y_train, y_test = train_test_split(x_final, y, train_size=10000, test_size=3000, random_state=42)\n",
        "\n",
        "# distributions = dict(n_neighbors=np.arange(0, 20), weights=['uniform', 'distance'])\n",
        "# clf = KNeighborsClassifier(weights='distance', p=1) #RandomForestClassifier(random_state=0)\n",
        "# clf = RandomizedSearchCV(clf, distributions, random_state=2)\n",
        "# search = clf.fit(x_train, y_train)\n",
        "# print(search.best_params_)\n",
        "clf = KNeighborsClassifier(n_neighbors=4, weights='distance', p=1)\n",
        "clf.fit(x_train, y_train)\n",
        "clf.score(x_test, y_test)"
      ],
      "metadata": {
        "colab": {
          "base_uri": "https://localhost:8080/"
        },
        "id": "tl7OL4n3RIFW",
        "outputId": "300ced56-f51b-4795-d430-94f36b8a2d40"
      },
      "execution_count": 21,
      "outputs": [
        {
          "output_type": "execute_result",
          "data": {
            "text/plain": [
              "0.034666666666666665"
            ]
          },
          "metadata": {},
          "execution_count": 21
        }
      ]
    },
    {
      "cell_type": "code",
      "source": [
        "score = (regscore+clf.score(x_test, y_test))/2\n",
        "print(score)"
      ],
      "metadata": {
        "colab": {
          "base_uri": "https://localhost:8080/"
        },
        "id": "TOtlkXje9qWq",
        "outputId": "a00fa811-9200-4bcd-c501-921c409aab4f"
      },
      "execution_count": 22,
      "outputs": [
        {
          "output_type": "stream",
          "name": "stdout",
          "text": [
            "0.2449895704063537\n"
          ]
        }
      ]
    },
    {
      "cell_type": "code",
      "source": [],
      "metadata": {
        "id": "jcZ54u3r-K4i"
      },
      "execution_count": null,
      "outputs": []
    }
  ]
}